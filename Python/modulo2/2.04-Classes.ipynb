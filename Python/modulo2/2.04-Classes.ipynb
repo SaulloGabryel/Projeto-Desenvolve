{
 "cells": [
  {
   "cell_type": "markdown",
   "metadata": {},
   "source": [
    "> Projeto Desenvolve <br>\n",
    "Programação Intermediária com Python <br>\n",
    "Profa. Camila Laranjeira (mila@projetodesenvolve.com.br) <br>\n",
    "\n",
    "# 2.4 - Classes, atributos e métodos"
   ]
  },
  {
   "cell_type": "markdown",
   "metadata": {},
   "source": [
    "## Exercícios\n",
    "\n",
    "#### Q1.\n",
    "Vamos criar aos pouquinhos uma classe Evento que registra eventos de um calendário. Pra começar, nessa questão você deve:\n",
    "\n",
    "* Criar uma classe chamada Evento\n",
    "* Adicionar um atributo de classe `total_eventos` que será usado para contar o número total de eventos (instâncias de classe) criadas.\n",
    "* Implemente o método construtor que deve receber os parâmetros `titulo` (`string`), `data_hora` (`datetime`), `descrição` (`string`). Crie e inicialize um atributo de instância para cada um dos parâmetros citados.\n",
    "* O construtor também deve inicializar um atributo de instância `is_concluido = False`. Esse atributo será utilizado mais à frente. \n",
    "* No construtor você também deve incrementar o atributo de classe `total_eventos` em 1 a cada nova instância criada.\n",
    "\n",
    "Teste o seu código criando duas diferentes instâncias de evento (preencha os atributos como quiser) e imprimindo todos os seus atributos (de classe e de instância).\n",
    "\n",
    "> Consulte [este tutorial biblioteca `datetime`](https://www.w3schools.com/python/python_datetime.asp) caso não esteja familiarizado."
   ]
  },
  {
   "cell_type": "code",
   "execution_count": 29,
   "metadata": {},
   "outputs": [],
   "source": [
    "import datetime\n",
    "\n",
    "class Evento:\n",
    "    total_eventos = 0\n",
    "\n",
    "    def __init__(self, titulo: str, data_hora: datetime.datetime , descrição: str):\n",
    "     self.titulo = titulo\n",
    "     self.data_hora = data_hora\n",
    "     self.descrição = descrição\n",
    "     self.is_concluido = False\n",
    "     Evento.total_eventos += 1\n",
    "\n",
    "    \n",
    "    def saida(self):\n",
    "        return (\n",
    "           f'titulo: {self.titulo}\\n'\n",
    "           f'data e hora: {self.data_hora}\\n'\n",
    "           f'descrição: {self.descrição}\\n'\n",
    "           f'concluido: {self.is_concluido}\\n'\n",
    "        )\n",
    "    \n",
    "    \n",
    "evento1 = Evento(\"Natal\", datetime.datetime(2025, 12, 25, 0, 0), \"É natal!\")\n",
    "evento2 = Evento(\"Páscoa\", datetime.datetime(2025, 4, 20, 0, 0), \"É Páscoa! Hora de caçar ovos.\")"
   ]
  },
  {
   "cell_type": "markdown",
   "metadata": {},
   "source": [
    "#### Q2.\n",
    "Agora vamos adicionar métodos à nossa classe. Lembre dos diferentes decoradores que aprendemos. Você deve redefinir a classe com os seguintes métodos:\n",
    "* Um método `isConcluido()` que avalia se a `data_hora` do evento é menor que `datetime.now()` (a data e hora atual). Em caso positivo, atualiza o atributo de instância `is_concluido` para o valor `True`. \n",
    "* Um método de classe `num_eventos()` que retorna o valor do atributo de classe `total_eventos`.\n",
    "* Um método estático `valida_evento(nome, data_hora, descricao)` que recebe os atributos de um evento e testa os tipos de cada variável, retornando `True` caso todos estejam corretos e `False` caso contrário. Para o teste, use a função nativa do Python [`isinstance`](https://www.w3schools.com/python/ref_func_isinstance.asp).\n",
    "\n",
    "Para testar sua classe atualizada:\n",
    "* Crie uma instância de Evento com valor passado e chame o método `isConcluido()` para a instância criada. Em seguida imprima o atributo `is_concluido`. \n",
    "* Invoque o método de classe `num_eventos()` a partir da classe Evento (ou seja, sem criar nenhuma instância).\n",
    "* Chame o método estático `valida_evento()` a partir da classe Evento. Experimente passar valores corretos e incorretos. \n"
   ]
  },
  {
   "cell_type": "code",
   "execution_count": 64,
   "metadata": {},
   "outputs": [
    {
     "name": "stdout",
     "output_type": "stream",
     "text": [
      "True\n",
      "Total de eventos: 2\n",
      "True\n"
     ]
    }
   ],
   "source": [
    "import datetime \n",
    "from datetime import timedelta\n",
    "class Evento:\n",
    "    total_eventos = 0\n",
    "\n",
    "    def __init__(self, titulo: str, data_hora: datetime.datetime , descrição: str):\n",
    "     self.titulo = titulo\n",
    "     self.data_hora = data_hora\n",
    "     self.descrição = descrição\n",
    "     self.is_concluido = False\n",
    "     Evento.total_eventos += 1\n",
    "\n",
    "    def isConcluido(self):\n",
    "        if self.data_hora < datetime.datetime.now():\n",
    "            self.is_concluido = True\n",
    "        else:\n",
    "            self.is_concluido = False\n",
    "        return print(self.is_concluido) \n",
    "    \n",
    "    def saida(self):\n",
    "        return (\n",
    "           f'titulo: {self.titulo}\\n'\n",
    "           f'data e hora: {self.data_hora}\\n'\n",
    "           f'descrição: {self.descrição}\\n'\n",
    "           f'concluido: {self.is_concluido}\\n'\n",
    "        )\n",
    "    \n",
    "    @staticmethod            \n",
    "    def valida_evento(nome, data_hora, descrição):\n",
    "        if type(nome) == str and type(data_hora) == datetime.datetime and type(descrição) == str:\n",
    "            return True\n",
    "        else:\n",
    "            return False\n",
    "\n",
    "    @classmethod\n",
    "    def num_eventos(cls):\n",
    "        return cls.total_eventos\n",
    "    \n",
    "    def __str__(self):\n",
    "        return self.saida()\n",
    "\n",
    "\n",
    "evento1 = Evento(\"Natal\", datetime.datetime(2025, 12, 25, 0, 0), \"É natal!\")\n",
    "evento2 = Evento(\"Páscoa\", datetime.datetime(2025, 4, 20, 0, 0), \"É Páscoa! Hora de caçar ovos.\")\n",
    "evento2.isConcluido()\n",
    "print(\"Total de eventos:\", Evento.num_eventos())\n",
    "\n",
    "print(Evento.valida_evento(\"Páscoa\", datetime.datetime(2020, 4, 20, 0, 0), \"É Páscoa! Hora de caçar ovos.\"))"
   ]
  },
  {
   "cell_type": "markdown",
   "metadata": {
    "vscode": {
     "languageId": "plaintext"
    }
   },
   "source": [
    "#### Q3.\n",
    "\n",
    "Vamos incluir métodos mágicos! ✨🪄🔮\n",
    "\n",
    "Redefina a classe incluindo\":\n",
    "* Método `__str__` que imprime os atributos do evento na forma `\"Evento: titulo, Data: data_hora, Descrição: descricao, Concluido: is_concluido\"`.\n",
    "* Implemente os métodos de comparação `__eq__`, `__ne__`, `__lt__`, `__le__`, `__gt__` e `__ge__` para comparar eventos baseados no atributo `data_hora`. Esses métodos devem comparar duas instâncias de Evento e retornar os resultados apropriados (`True` ou `False`).\n",
    "\n",
    "Para testar, crie duas instâncias de Evento com datas diferentes. Imprima as instâncias com a função `print()` e apresente o resultado das comparações entre eventos (`==`, `!=`, `<`, `<=`, `>`, `>=`)."
   ]
  },
  {
   "cell_type": "code",
   "execution_count": 68,
   "metadata": {},
   "outputs": [
    {
     "name": "stdout",
     "output_type": "stream",
     "text": [
      "True\n",
      "Total de eventos: 2\n",
      "True\n",
      "evento1 < evento2: True\n"
     ]
    }
   ],
   "source": [
    "import datetime \n",
    "from datetime import timedelta\n",
    "class Evento:\n",
    "    total_eventos = 0\n",
    "\n",
    "    def __init__(self, titulo: str, data_hora: datetime.datetime , descrição: str):\n",
    "     self.titulo = titulo\n",
    "     self.data_hora = data_hora\n",
    "     self.descrição = descrição\n",
    "     self.is_concluido = False\n",
    "     Evento.total_eventos += 1\n",
    "\n",
    "    def isConcluido(self):\n",
    "        if self.data_hora < datetime.datetime.now():\n",
    "            self.is_concluido = True\n",
    "        else:\n",
    "            self.is_concluido = False\n",
    "        return print(self.is_concluido) \n",
    "    \n",
    "    def saida(self):\n",
    "        return (\n",
    "           f'titulo: {self.titulo}\\n'\n",
    "           f'data e hora: {self.data_hora}\\n'\n",
    "           f'descrição: {self.descrição}\\n'\n",
    "           f'concluido: {self.is_concluido}\\n'\n",
    "        )\n",
    "    \n",
    "    @staticmethod            \n",
    "    def valida_evento(nome, data_hora, descrição):\n",
    "        if type(nome) == str and type(data_hora) == datetime.datetime and type(descrição) == str:\n",
    "            return True\n",
    "        else:\n",
    "            return False\n",
    "\n",
    "    @classmethod\n",
    "    def num_eventos(cls):\n",
    "        return cls.total_eventos\n",
    "    \n",
    "    def __str__(self):\n",
    "        return self.saida()\n",
    "    def __eq__(self, outro):\n",
    "        return self.data_hora == outro.data_hora\n",
    "\n",
    "    def __ne__(self, outro):\n",
    "        return self.data_hora != outro.data_hora\n",
    "\n",
    "    def __lt__(self, outro):\n",
    "        return self.data_hora < outro.data_hora\n",
    "\n",
    "    def __le__(self, outro):\n",
    "        return self.data_hora <= outro.data_hora\n",
    "\n",
    "    def __gt__(self, outro):\n",
    "        return self.data_hora > outro.data_hora\n",
    "\n",
    "    def __ge__(self, outro):\n",
    "        return self.data_hora >= outro.data_hora\n",
    "    \n",
    "\n",
    "\n",
    "evento1 = Evento(\"Natal\", datetime.datetime(2025, 12, 25, 0, 0), \"É natal!\")\n",
    "evento2 = Evento(\"Páscoa\", datetime.datetime(2025, 4, 20, 0, 0), \"É Páscoa! Hora de caçar ovos.\")\n",
    "evento2.isConcluido()\n",
    "print(\"Total de eventos:\", Evento.num_eventos())\n",
    "\n",
    "print(Evento.valida_evento(\"Páscoa\", datetime.datetime(2020, 4, 20, 0, 0), \"É Páscoa! Hora de caçar ovos.\"))\n",
    "print(\"evento1 < evento2:\", evento1 > evento2)"
   ]
  },
  {
   "cell_type": "code",
   "execution_count": null,
   "metadata": {},
   "outputs": [],
   "source": []
  }
 ],
 "metadata": {
  "kernelspec": {
   "display_name": "Python 3",
   "language": "python",
   "name": "python3"
  },
  "language_info": {
   "codemirror_mode": {
    "name": "ipython",
    "version": 3
   },
   "file_extension": ".py",
   "mimetype": "text/x-python",
   "name": "python",
   "nbconvert_exporter": "python",
   "pygments_lexer": "ipython3",
   "version": "3.12.6"
  }
 },
 "nbformat": 4,
 "nbformat_minor": 2
}
