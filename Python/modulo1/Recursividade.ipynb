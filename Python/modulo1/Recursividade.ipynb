> Projeto Desenvolve <br>
Programação Intermediária com Python <br>
Profa. Camila Laranjeira (mila@projetodesenvolve.com.br) <br>

# 1.1 - Recursividade
## Exercícios:

#### **Q1**. 
Faça um procedimento recursivo que receba dois valores inteiros `a` e `b` e imprime o intervalo fechado entre eles. Se `a > b` imprima uma mensagem de erro.

| Entrada |  Saída |
| ------- | ------ |
| 1 10    | 1 2 3 4 5 6 7 8 9 10 |
| -5 1    | -5 -4 -3 -2 -1 |
| 5 -5    | Valores invalidos |
| 17 20   | 17 18 19 20 |
def imprimevalor(a, b):
    if a > b:
        print("Valores invalidos")
    else:
        if a == b:
            print(a)
        else:
            print(a)
            imprimevalor(a+1, b)


imprimevalor(1, 10)
---


#### **Q2**. 
Mudando **apenas uma linha**, altere o código anterior para imprimir o intervalo invertido.

| Entrada |  Saída |
| ------- | ------ |
| 1 10    | 10 9 8 7 6 5 4 3 2 1 |
| -5 1    | -1 -2 -3 -4 -5 |
| 5 -5    | Valores invalidos |
| 17 20   | 20 19 18 17 |
def imprimevalor(a, b):
    if a > b:
        return "erro de digitação"
    else:
        if a == b:
            print(a, "caso base")
        else:
            imprimevalor(a+1,b)
            print(a)
            

imprimevalor(1,10)


---


#### **Q3**. 
Escreva uma função recursiva que recebe um inteiro `n > 1` e calcula a soma dos valores entre `n` e `1`.

| Entrada |  Saída |
| ------- | ------ |
| 5   | 15 |
| 13  | 78 |
def imprimevalor(n):
    if n < 1:
        return "erro de digitação"
    else:
        if n == 1:
            return n
        else:
            return n + imprimevalor(n-1)
        
imprimevalor(5)
# Obs: o enunciado mostra 13 -> 78, mas o correto é 91



---


#### **Q4**.  

Escreva uma função recursiva que recebe um inteiro `n` e verifica se `n`é um valor primo, ou seja, se é divisível apenas por si mesmo e por `1`.
b=2
def NumeroPrimo(n, b):
    if n <= 0 or n % b == 0:
        return 'nao é primo'
    else:
        if n % b != 0:
            if b == n - 1:
                return("é primo")
            return NumeroPrimo(n,b+1)        
            

NumeroPrimo(7,b)


---


#### **Q5**. 
Implemente uma função recursiva que recebe um número inteiro decimal e retorna sua representação binária como uma string. Para realizar essa conversão, utilize o método de divisão sucessiva, onde você divide o número decimal por 2 e coleta os restos até que o quociente seja zero. A ordem dos restos coletados, de baixo para cima, forma o número binário correspondente.

**Exemplo de Conversão:**

Para converter o número decimal 13 para binário:
```
13 ÷ 2 = 6, resto 1
6 ÷ 2 = 3, resto 0
3 ÷ 2 = 1, resto 1
1 ÷ 2 = 0, resto 1
```
Lendo os restos de baixo para cima, obtemos o número binário `1101`.
restos = []
def NumeroBinario(n, b):
    if n == 0:
        restoinverso =restos[::-1] 
        return restoinverso
    else:
        b = n % 2
        n = n // 2
        print("resto", b)
        restos.append(b)
        return NumeroBinario(n,b)  
    
NumeroBinario(13,b)


---


#### **Extra**: 

Implemente uma função recursiva em Python que realiza a travessia em pré-ordem de uma árvore binária representada por listas aninhadas. Na travessia em pré-ordem (ou pré-fixada), o nó raiz é visitado primeiro, seguido pela subárvore esquerda e, por fim, pela subárvore direita. A questão fixa as constantes `RAIZ_IDX, ESQ_IDX, DIR_IDX` representando os índices da lista onde se encontra o valor raíz, o nó a esquerda e o nó a direita.

```
# Representação visual da árvore
       4
      / \
     2   5
    / \
   1   3
```
RAIZ_IDX, ESQ_IDX, DIR_IDX = 0, 1, 2

arvore = [
    4,              # raíz, nível 0
    [               # ramo da esquerda, nível 1
        2,          # valor filho esquerda
        [1, None, None],   # ramo da esquerda, nível 2
        [3, None, None]    # ramo da direita, nível 2
    ],
    [               # ramo da direita, nível 1
        5,          # valor filho da direita
        None,              # ramo da esquerda, nível 2
        None               # ramo da direita, nível 2
    ]
]
